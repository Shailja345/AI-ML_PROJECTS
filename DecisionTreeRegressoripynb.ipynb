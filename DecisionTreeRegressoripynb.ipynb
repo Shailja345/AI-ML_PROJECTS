{
  "nbformat": 4,
  "nbformat_minor": 0,
  "metadata": {
    "colab": {
      "provenance": []
    },
    "kernelspec": {
      "name": "python3",
      "display_name": "Python 3"
    },
    "language_info": {
      "name": "python"
    }
  },
  "cells": [
    {
      "cell_type": "code",
      "execution_count": null,
      "metadata": {
        "colab": {
          "base_uri": "https://localhost:8080/",
          "height": 650
        },
        "id": "rhch3K0Nld0R",
        "outputId": "5cdd8a6c-2bb1-4bf4-a39f-5fb56902c2cb"
      },
      "outputs": [
        {
          "output_type": "stream",
          "name": "stdout",
          "text": [
            "It looks like you are running Gradio on a hosted Jupyter notebook, which requires `share=True`. Automatically setting `share=True` (you can turn this off by setting `share=False` in `launch()` explicitly).\n",
            "\n",
            "Colab notebook detected. To show errors in colab notebook, set debug=True in launch()\n",
            "* Running on public URL: https://325e1ae44c89ef3f61.gradio.live\n",
            "\n",
            "This share link expires in 1 week. For free permanent hosting and GPU upgrades, run `gradio deploy` from the terminal in the working directory to deploy to Hugging Face Spaces (https://huggingface.co/spaces)\n"
          ]
        },
        {
          "output_type": "display_data",
          "data": {
            "text/plain": [
              "<IPython.core.display.HTML object>"
            ],
            "text/html": [
              "<div><iframe src=\"https://325e1ae44c89ef3f61.gradio.live\" width=\"100%\" height=\"500\" allow=\"autoplay; camera; microphone; clipboard-read; clipboard-write;\" frameborder=\"0\" allowfullscreen></iframe></div>"
            ]
          },
          "metadata": {}
        },
        {
          "output_type": "execute_result",
          "data": {
            "text/plain": []
          },
          "metadata": {},
          "execution_count": 3
        }
      ],
      "source": [
        "!pip install gradio -q\n",
        "import gradio as gr\n",
        "from sklearn.datasets import load_diabetes\n",
        "from sklearn.tree import DecisionTreeRegressor\n",
        "from sklearn.model_selection import train_test_split\n",
        "\n",
        "# Load dataset\n",
        "diabetes = load_diabetes()\n",
        "X, y = diabetes.data, diabetes.target\n",
        "clf = DecisionTreeRegressor(max_depth=5, random_state=42).fit(X, y)\n",
        "\n",
        "def predict(bp, bmi, age):\n",
        "  data = [[0]*3 + [bp, bmi, 0, 0, 0, 0, age]] # pick features manually\n",
        "  pred = clf.predict(data)[0]\n",
        "  return f\"Predicted Diabetes Risk Score: {pred:.2f}\"\n",
        "\n",
        "demo = gr.Interface(\n",
        "fn=predict,\n",
        "inputs=[gr.Number(label=\"Blood Pressure\"), gr.Number(label=\"BMI\"), gr.Number(label=\"Age\")],\n",
        "outputs=\"text\",\n",
        "title=\"Diabetes Risk Prediction (Decision Tree)\",\n",
        "description=\"Predict diabetes progression risk score.\"\n",
        ")\n",
        "demo.launch()"
      ]
    },
    {
      "cell_type": "code",
      "source": [
        "from sklearn.model_selection import train_test_split\n",
        "from sklearn.tree import DecisionTreeRegressor\n",
        "from sklearn.ensemble import BaggingRegressor, RandomForestRegressor, GradientBoostingRegressor, AdaBoostRegressor\n",
        "import xgboost as xgb"
      ],
      "metadata": {
        "id": "i002qYqrocXF"
      },
      "execution_count": null,
      "outputs": []
    },
    {
      "cell_type": "code",
      "source": [
        "X_train, X_test, y_train, y_test = train_test_split(X, y, test_size=0.2, random_state=42)"
      ],
      "metadata": {
        "id": "2SW2Kj5xoreT"
      },
      "execution_count": null,
      "outputs": []
    },
    {
      "cell_type": "code",
      "source": [
        "models = {\n",
        "\"Decision Tree\": DecisionTreeRegressor(max_depth=5, random_state=42),\n",
        "\"Bagging\": BaggingRegressor(DecisionTreeRegressor(), n_estimators=50, random_state=42),\n",
        "\"Random Forest\": RandomForestRegressor(n_estimators=100, random_state=42),\n",
        "\"Gradient Boosting\": GradientBoostingRegressor(n_estimators=100, learning_rate=0.1, random_state=42),\n",
        "\"AdaBoost\": AdaBoostRegressor(DecisionTreeRegressor(max_depth=3), n_estimators=100, learning_rate=0.1, random_state=42),\n",
        "\"XGBoost\": xgb.XGBRegressor(n_estimators=100, learning_rate=0.1, max_depth=3, random_state=42, verbosity=0)\n",
        "}"
      ],
      "metadata": {
        "id": "IijZrOzLpOiH"
      },
      "execution_count": null,
      "outputs": []
    },
    {
      "cell_type": "code",
      "source": [
        "for name, model in models.items():\n",
        "    model.fit(X_train, y_train)"
      ],
      "metadata": {
        "id": "pIHMy1jAqZHY"
      },
      "execution_count": null,
      "outputs": []
    },
    {
      "cell_type": "code",
      "source": [
        "def interpret_score(score):\n",
        "    if score < 100:\n",
        "        return \"Low Risk\"\n",
        "    elif 100 <= score < 180:\n",
        "        return \"Moderate Risk \"\n",
        "    else:\n",
        "        return \"High Risk \""
      ],
      "metadata": {
        "id": "qR6wHYIoqY52"
      },
      "execution_count": null,
      "outputs": []
    },
    {
      "cell_type": "code",
      "source": [
        "\n",
        "def predict(bp, bmi, age, model_name):\n",
        "    # pick features manually (bp, bmi, age)\n",
        "    data = [[0]*3 + [bp, bmi, 0, 0, 0, 0, age]]\n",
        "    pred = models[model_name].predict(data)[0]\n",
        "    category = interpret_score(pred)\n",
        "    return f\"{model_name} Prediction → Score: {pred:.2f} | Risk Level: {category}\"\n"
      ],
      "metadata": {
        "id": "lOlO5TVPrz8z"
      },
      "execution_count": null,
      "outputs": []
    },
    {
      "cell_type": "code",
      "source": [
        "demo = gr.Interface(\n",
        "    fn=predict,\n",
        "    inputs=[\n",
        "        gr.Number(label=\"Blood Pressure\"),\n",
        "        gr.Number(label=\"BMI\"),\n",
        "        gr.Number(label=\"Age\"),\n",
        "        gr.Radio(list(models.keys()), label=\"Choose Model\")\n",
        "    ],\n",
        "    outputs=\"text\",\n",
        "    title=\"Diabetes Risk Prediction (Ensembling & Boosting)\",\n",
        "    description=\"Compare Decision Tree, Bagging, Random Forest, Gradient Boosting, AdaBoost, and XGBoost with interpretable risk levels.\"\n",
        ")"
      ],
      "metadata": {
        "id": "bV1XZi90sR2u"
      },
      "execution_count": null,
      "outputs": []
    },
    {
      "cell_type": "code",
      "source": [
        "demo.launch()"
      ],
      "metadata": {
        "id": "KeQDo9TDspOQ",
        "outputId": "a49889eb-ad84-4741-8b38-bfa92fbeb55e",
        "colab": {
          "base_uri": "https://localhost:8080/",
          "height": 650
        }
      },
      "execution_count": null,
      "outputs": [
        {
          "output_type": "stream",
          "name": "stdout",
          "text": [
            "It looks like you are running Gradio on a hosted Jupyter notebook, which requires `share=True`. Automatically setting `share=True` (you can turn this off by setting `share=False` in `launch()` explicitly).\n",
            "\n",
            "Colab notebook detected. To show errors in colab notebook, set debug=True in launch()\n",
            "* Running on public URL: https://016a66c37e1f1e5242.gradio.live\n",
            "\n",
            "This share link expires in 1 week. For free permanent hosting and GPU upgrades, run `gradio deploy` from the terminal in the working directory to deploy to Hugging Face Spaces (https://huggingface.co/spaces)\n"
          ]
        },
        {
          "output_type": "display_data",
          "data": {
            "text/plain": [
              "<IPython.core.display.HTML object>"
            ],
            "text/html": [
              "<div><iframe src=\"https://016a66c37e1f1e5242.gradio.live\" width=\"100%\" height=\"500\" allow=\"autoplay; camera; microphone; clipboard-read; clipboard-write;\" frameborder=\"0\" allowfullscreen></iframe></div>"
            ]
          },
          "metadata": {}
        },
        {
          "output_type": "execute_result",
          "data": {
            "text/plain": []
          },
          "metadata": {},
          "execution_count": 12
        }
      ]
    }
  ]
}